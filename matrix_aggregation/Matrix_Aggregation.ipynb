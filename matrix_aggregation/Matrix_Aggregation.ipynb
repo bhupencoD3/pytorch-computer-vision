{
 "cells": [
  {
   "cell_type": "code",
   "execution_count": 1,
   "id": "77e1e2ed",
   "metadata": {},
   "outputs": [],
   "source": [
    "import torch"
   ]
  },
  {
   "cell_type": "code",
   "execution_count": 2,
   "id": "f3c07178",
   "metadata": {},
   "outputs": [
    {
     "name": "stdout",
     "output_type": "stream",
     "text": [
      "tensor([[1., 2., 3.],\n",
      "        [4., 5., 6.],\n",
      "        [7., 8., 9.]])\n"
     ]
    }
   ],
   "source": [
    "matrix = torch.tensor([[1.,2.,3.],\n",
    "              [4.,5.,6.],\n",
    "              [7.,8.,9.]])\n",
    "\n",
    "print(matrix)"
   ]
  },
  {
   "cell_type": "code",
   "execution_count": 7,
   "id": "333b6636",
   "metadata": {},
   "outputs": [
    {
     "name": "stdout",
     "output_type": "stream",
     "text": [
      "tensor(45.)\n",
      "tensor(1.)\n",
      "tensor(9.)\n",
      "tensor(5.)\n",
      "tensor(5.)\n"
     ]
    }
   ],
   "source": [
    "print(matrix.sum())\n",
    "print(matrix.min())\n",
    "print(matrix.max())\n",
    "print(matrix.mean())\n",
    "print(matrix.median())"
   ]
  },
  {
   "cell_type": "markdown",
   "id": "607328d4",
   "metadata": {},
   "source": [
    "###### dim=0 ---> rows [actual columns]\n",
    "###### dim=1 ---> columns [actual rows]\n"
   ]
  },
  {
   "cell_type": "code",
   "execution_count": 13,
   "id": "a1388c2c",
   "metadata": {},
   "outputs": [
    {
     "name": "stdout",
     "output_type": "stream",
     "text": [
      "torch.return_types.min(\n",
      "values=tensor([1., 2., 3.]),\n",
      "indices=tensor([0, 0, 0]))\n",
      "----------\n",
      "torch.return_types.max(\n",
      "values=tensor([7., 8., 9.]),\n",
      "indices=tensor([2, 2, 2]))\n",
      "----------\n",
      "tensor([ 6., 15., 24.])\n"
     ]
    }
   ],
   "source": [
    "print(matrix.min(dim=0))\n",
    "print(\"-\"*10)\n",
    "print(matrix.max(dim=0))\n",
    "print(\"-\"*10)\n",
    "print(matrix.sum(dim=1))\n"
   ]
  },
  {
   "cell_type": "markdown",
   "id": "a0e15195",
   "metadata": {},
   "source": [
    "##### Cumulative Sum"
   ]
  },
  {
   "cell_type": "code",
   "execution_count": 17,
   "id": "75e32436",
   "metadata": {},
   "outputs": [
    {
     "name": "stdout",
     "output_type": "stream",
     "text": [
      "tensor([[ 1.,  3.,  6.],\n",
      "        [ 4.,  9., 15.],\n",
      "        [ 7., 15., 24.]])\n"
     ]
    }
   ],
   "source": [
    "cumulative_sum = matrix.cumsum(dim=1)\n",
    "print(cumulative_sum)"
   ]
  },
  {
   "cell_type": "code",
   "execution_count": 18,
   "id": "c1ae750f",
   "metadata": {},
   "outputs": [
    {
     "name": "stdout",
     "output_type": "stream",
     "text": [
      "tensor([[ 1.,  2.,  3.],\n",
      "        [ 5.,  7.,  9.],\n",
      "        [12., 15., 18.]])\n"
     ]
    }
   ],
   "source": [
    "cumulative_sum = matrix.cumsum(dim=0)\n",
    "print(cumulative_sum)"
   ]
  },
  {
   "cell_type": "markdown",
   "id": "30ec4670",
   "metadata": {},
   "source": [
    "##### Advance Aggregation"
   ]
  },
  {
   "cell_type": "code",
   "execution_count": 20,
   "id": "2f7b23a0",
   "metadata": {},
   "outputs": [
    {
     "name": "stdout",
     "output_type": "stream",
     "text": [
      "tensor(9.)\n"
     ]
    }
   ],
   "source": [
    "masked_matrix_sum = matrix[matrix>8].sum()\n",
    "print(masked_matrix_sum)"
   ]
  },
  {
   "cell_type": "code",
   "execution_count": 28,
   "id": "2093c800",
   "metadata": {},
   "outputs": [
    {
     "name": "stdout",
     "output_type": "stream",
     "text": [
      "tensor([[1, 0],\n",
      "        [1, 1],\n",
      "        [1, 2],\n",
      "        [2, 0],\n",
      "        [2, 1],\n",
      "        [2, 2]])\n",
      "torch.Size([6, 2])\n",
      "6\n"
     ]
    }
   ],
   "source": [
    "matrix = torch.tensor([[0.,0.,0.],\n",
    "              [4.,5.,6.],\n",
    "              [7.,8.,9.]])\n",
    "\n",
    "non_zero = matrix.nonzero()\n",
    "print(non_zero)\n",
    "print(non_zero.shape)\n",
    "print(non_zero.size(0))"
   ]
  },
  {
   "cell_type": "markdown",
   "id": "ddbccae0",
   "metadata": {},
   "source": [
    "##### Normalized Matrix"
   ]
  },
  {
   "cell_type": "code",
   "execution_count": 29,
   "id": "55a2b186",
   "metadata": {},
   "outputs": [
    {
     "name": "stdout",
     "output_type": "stream",
     "text": [
      "tensor([[0.0000, 0.0000, 0.0000],\n",
      "        [0.4444, 0.5556, 0.6667],\n",
      "        [0.7778, 0.8889, 1.0000]])\n"
     ]
    }
   ],
   "source": [
    "max_v = matrix.max()\n",
    "min_v = matrix.min()\n",
    "\n",
    "normalized_matrix = (matrix - min_v) / (max_v - min_v)\n",
    "\n",
    "print(normalized_matrix)\n"
   ]
  },
  {
   "cell_type": "code",
   "execution_count": null,
   "id": "8a8ee904",
   "metadata": {},
   "outputs": [],
   "source": []
  }
 ],
 "metadata": {
  "kernelspec": {
   "display_name": "Python 3",
   "language": "python",
   "name": "python3"
  },
  "language_info": {
   "codemirror_mode": {
    "name": "ipython",
    "version": 3
   },
   "file_extension": ".py",
   "mimetype": "text/x-python",
   "name": "python",
   "nbconvert_exporter": "python",
   "pygments_lexer": "ipython3",
   "version": "3.11.13"
  }
 },
 "nbformat": 4,
 "nbformat_minor": 5
}
