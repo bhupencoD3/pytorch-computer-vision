{
 "cells": [
  {
   "cell_type": "code",
   "execution_count": 6,
   "id": "5e19a3eb",
   "metadata": {},
   "outputs": [],
   "source": [
    "# Accessing elements in a tensor\n",
    "'''\n",
    "tesnor[row,column]\n",
    "'''\n",
    "import torch"
   ]
  },
  {
   "cell_type": "markdown",
   "id": "e92a3ce8",
   "metadata": {},
   "source": [
    "# Indexing"
   ]
  },
  {
   "cell_type": "code",
   "execution_count": 12,
   "id": "bd7b2360",
   "metadata": {},
   "outputs": [
    {
     "name": "stdout",
     "output_type": "stream",
     "text": [
      "2\n",
      "torch.Size([3, 3])\n"
     ]
    }
   ],
   "source": [
    "tensor = torch.tensor([[10,20,30],\n",
    "                       [40,50,60],\n",
    "                       [70,80,90]])\n",
    "print(tensor.ndim)\n",
    "print(tensor.shape)"
   ]
  },
  {
   "cell_type": "code",
   "execution_count": 7,
   "id": "62b87aab",
   "metadata": {},
   "outputs": [
    {
     "name": "stdout",
     "output_type": "stream",
     "text": [
      "Element at (0,1): tensor(20)\n"
     ]
    }
   ],
   "source": [
    "print(\"Element at (0,1):\",tensor[0,1])"
   ]
  },
  {
   "cell_type": "code",
   "execution_count": 10,
   "id": "c982866f",
   "metadata": {},
   "outputs": [
    {
     "data": {
      "text/plain": [
       "tensor([10, 20, 30])"
      ]
     },
     "execution_count": 10,
     "metadata": {},
     "output_type": "execute_result"
    }
   ],
   "source": [
    "# Access first row\n",
    "tensor[0]"
   ]
  },
  {
   "cell_type": "code",
   "execution_count": 13,
   "id": "ec9e8950",
   "metadata": {},
   "outputs": [
    {
     "data": {
      "text/plain": [
       "tensor([10, 40, 70])"
      ]
     },
     "execution_count": 13,
     "metadata": {},
     "output_type": "execute_result"
    }
   ],
   "source": [
    "# Access first column\n",
    "tensor[:,0]"
   ]
  },
  {
   "cell_type": "markdown",
   "id": "55acd973",
   "metadata": {},
   "source": [
    "# Slicing"
   ]
  },
  {
   "cell_type": "code",
   "execution_count": 16,
   "id": "edc96bb6",
   "metadata": {},
   "outputs": [
    {
     "name": "stdout",
     "output_type": "stream",
     "text": [
      "First two rows:\n",
      " tensor([[10, 20, 30],\n",
      "        [40, 50, 60]])\n"
     ]
    }
   ],
   "source": [
    "print(\"First two rows:\\n\",tensor[:2,:])"
   ]
  },
  {
   "cell_type": "code",
   "execution_count": 17,
   "id": "0aa3d818",
   "metadata": {},
   "outputs": [
    {
     "name": "stdout",
     "output_type": "stream",
     "text": [
      "First two columns:\n",
      " tensor([[10, 20],\n",
      "        [40, 50],\n",
      "        [70, 80]])\n"
     ]
    }
   ],
   "source": [
    "print(\"First two columns:\\n\",tensor[:,:2])"
   ]
  },
  {
   "cell_type": "code",
   "execution_count": 21,
   "id": "af9c0869",
   "metadata": {},
   "outputs": [
    {
     "name": "stdout",
     "output_type": "stream",
     "text": [
      "tensor([50, 60])\n"
     ]
    }
   ],
   "source": [
    "# Middle element (row:1,columns:1&2 only)\n",
    "print(tensor[1,1:3])"
   ]
  },
  {
   "cell_type": "code",
   "execution_count": 22,
   "id": "069f491a",
   "metadata": {},
   "outputs": [
    {
     "name": "stdout",
     "output_type": "stream",
     "text": [
      "tensor([20, 90])\n"
     ]
    }
   ],
   "source": [
    "# Fancy indexing\n",
    "# (0,1) --> 20\n",
    "# (2,2) --> 90\n",
    "\n",
    "selected_elements = tensor[[0,2],[1,2]]\n",
    "print(selected_elements)"
   ]
  },
  {
   "cell_type": "code",
   "execution_count": null,
   "id": "533999ed",
   "metadata": {},
   "outputs": [
    {
     "name": "stdout",
     "output_type": "stream",
     "text": [
      "tensor([[False, False, False],\n",
      "        [False, False,  True],\n",
      "        [ True,  True,  True]])\n",
      "tensor([60, 70, 80, 90])\n"
     ]
    }
   ],
   "source": [
    "# boolean indexing\n",
    "\n",
    "mask = tensor > 50\n",
    "print(mask)\n",
    "\n",
    "print(tensor[mask])"
   ]
  },
  {
   "cell_type": "code",
   "execution_count": 25,
   "id": "742f109e",
   "metadata": {},
   "outputs": [
    {
     "name": "stdout",
     "output_type": "stream",
     "text": [
      "tensor([[10, 20, 30],\n",
      "        [40, 50, 60],\n",
      "        [70, 80, 90]])\n",
      "tensor([[10, 25, 30],\n",
      "        [40, 50, 60],\n",
      "        [70, 80, 90]])\n"
     ]
    }
   ],
   "source": [
    "# Modifying values via indexing\n",
    "print(tensor) \n",
    "\n",
    "tensor[0,1] = 25\n",
    "\n",
    "print(tensor)"
   ]
  },
  {
   "cell_type": "code",
   "execution_count": 26,
   "id": "2da20d30",
   "metadata": {},
   "outputs": [
    {
     "name": "stdout",
     "output_type": "stream",
     "text": [
      "tensor([[100,  25,  30],\n",
      "        [200,  50,  60],\n",
      "        [300,  80,  90]])\n"
     ]
    }
   ],
   "source": [
    "tensor[:,0] = torch.tensor([100,200,300])\n",
    "print(tensor)"
   ]
  },
  {
   "cell_type": "code",
   "execution_count": 29,
   "id": "7dbbeaae",
   "metadata": {},
   "outputs": [
    {
     "name": "stdout",
     "output_type": "stream",
     "text": [
      "tensor([[100,  30],\n",
      "        [200,  60],\n",
      "        [300,  90]])\n"
     ]
    }
   ],
   "source": [
    "indices = torch.tensor([0,2])\n",
    "selected_rows = torch.index_select(tensor,dim=1,index=indices) # 0 -> rows, 1 -> columns\n",
    "\n",
    "print(selected_rows)"
   ]
  },
  {
   "cell_type": "code",
   "execution_count": 31,
   "id": "44705515",
   "metadata": {},
   "outputs": [
    {
     "name": "stdout",
     "output_type": "stream",
     "text": [
      "tensor([[100,  30],\n",
      "        [200,  60],\n",
      "        [300,  90]])\n"
     ]
    }
   ],
   "source": [
    "# Using tensor with steps\n",
    "\n",
    "print(tensor[:,::2])"
   ]
  },
  {
   "cell_type": "code",
   "execution_count": 34,
   "id": "2e6f257a",
   "metadata": {},
   "outputs": [
    {
     "data": {
      "text/plain": [
       "tensor([[300,  80,  90],\n",
       "        [200,  50,  60],\n",
       "        [100,  25,  30]])"
      ]
     },
     "execution_count": 34,
     "metadata": {},
     "output_type": "execute_result"
    }
   ],
   "source": [
    "# print(tensor[::-1]) # wont work this in pytorch\n",
    "torch.flip(tensor,dims=(0,))"
   ]
  },
  {
   "cell_type": "code",
   "execution_count": null,
   "id": "54fcdcac",
   "metadata": {},
   "outputs": [],
   "source": []
  }
 ],
 "metadata": {
  "kernelspec": {
   "display_name": "Python 3",
   "language": "python",
   "name": "python3"
  },
  "language_info": {
   "codemirror_mode": {
    "name": "ipython",
    "version": 3
   },
   "file_extension": ".py",
   "mimetype": "text/x-python",
   "name": "python",
   "nbconvert_exporter": "python",
   "pygments_lexer": "ipython3",
   "version": "3.11.13"
  }
 },
 "nbformat": 4,
 "nbformat_minor": 5
}
