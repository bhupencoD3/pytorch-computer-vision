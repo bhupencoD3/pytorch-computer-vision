{
 "cells": [
  {
   "cell_type": "markdown",
   "id": "ca2ca395",
   "metadata": {},
   "source": [
    "#### DataTypes for tensors"
   ]
  },
  {
   "cell_type": "code",
   "execution_count": 2,
   "id": "e8158fb1",
   "metadata": {},
   "outputs": [
    {
     "data": {
      "text/plain": [
       "'\\nfloating -- for most deep learning tasks --> float32,float64,float16\\nintegers -- for categorical data and indices --> int32,int64,int8\\nboolean --  for mask or logical operation \\nComplex Number -- advanced computations  --> complex64,complex128\\n\\nmemory consumption: float16 << float32 << float64\\ncomputation: lower precision will be faster on gpu\\nnumerical precision: float64 is more precise than float32\\n\\n'"
      ]
     },
     "execution_count": 2,
     "metadata": {},
     "output_type": "execute_result"
    }
   ],
   "source": [
    "'''\n",
    "floating -- for most deep learning tasks --> float32,float64,float16\n",
    "integers -- for categorical data and indices --> int32,int64,int8\n",
    "boolean --  for mask or logical operation \n",
    "Complex Number -- advanced computations  --> complex64,complex128\n",
    "\n",
    "memory consumption: float16 << float32 << float64\n",
    "computation: lower precision will be faster on gpu\n",
    "numerical precision: float64 is more precise than float32\n",
    "\n",
    "'''"
   ]
  },
  {
   "cell_type": "code",
   "execution_count": 3,
   "id": "4853d0ab",
   "metadata": {},
   "outputs": [],
   "source": [
    "import torch"
   ]
  },
  {
   "cell_type": "code",
   "execution_count": null,
   "id": "cd67f6fd",
   "metadata": {},
   "outputs": [
    {
     "name": "stdout",
     "output_type": "stream",
     "text": [
      "torch.float32\n"
     ]
    }
   ],
   "source": [
    "default_tensor = torch.tensor([1.5,2.5,3.5])\n",
    "print(default_tensor.dtype)"
   ]
  },
  {
   "cell_type": "code",
   "execution_count": 5,
   "id": "04dfe665",
   "metadata": {},
   "outputs": [
    {
     "name": "stdout",
     "output_type": "stream",
     "text": [
      "torch.float64\n"
     ]
    }
   ],
   "source": [
    "float_tensor = torch.tensor([1.5,2.5,3.5],dtype=torch.float64)\n",
    "print(float_tensor.dtype)"
   ]
  },
  {
   "cell_type": "code",
   "execution_count": 7,
   "id": "b2f50013",
   "metadata": {},
   "outputs": [
    {
     "name": "stdout",
     "output_type": "stream",
     "text": [
      "torch.int32\n",
      "tensor([1, 2, 3], dtype=torch.int32)\n"
     ]
    }
   ],
   "source": [
    "int_tensor = torch.tensor([1.5,2.5,3.5],dtype=torch.int32)\n",
    "print(int_tensor.dtype)\n",
    "print(int_tensor)"
   ]
  },
  {
   "cell_type": "code",
   "execution_count": 8,
   "id": "ae823426",
   "metadata": {},
   "outputs": [
    {
     "name": "stdout",
     "output_type": "stream",
     "text": [
      "torch.int64\n"
     ]
    }
   ],
   "source": [
    "int_tensor = torch.tensor([1,2,3])\n",
    "print(int_tensor.dtype)"
   ]
  },
  {
   "cell_type": "code",
   "execution_count": 10,
   "id": "7310e264",
   "metadata": {},
   "outputs": [
    {
     "name": "stdout",
     "output_type": "stream",
     "text": [
      "tensor([ True, False, False,  True])\n",
      "torch.bool\n"
     ]
    }
   ],
   "source": [
    "bool_tensor = torch.tensor([True,False,False,True])\n",
    "print(bool_tensor)\n",
    "print(bool_tensor.dtype)\n"
   ]
  },
  {
   "cell_type": "markdown",
   "id": "b006f63a",
   "metadata": {},
   "source": [
    "#### type conversion"
   ]
  },
  {
   "cell_type": "code",
   "execution_count": 14,
   "id": "97173037",
   "metadata": {},
   "outputs": [
    {
     "name": "stdout",
     "output_type": "stream",
     "text": [
      "tensor([1.5000, 2.4000, 6.5000])\n",
      "torch.float32\n",
      "tensor([1, 2, 6])\n",
      "torch.int64\n"
     ]
    }
   ],
   "source": [
    "float_tensor = torch.tensor([1.5,2.4,6.5])\n",
    "print(float_tensor)\n",
    "print(float_tensor.dtype)\n",
    "\n",
    "\n",
    "int_tensor  = float_tensor.to(torch.int64)\n",
    "print(int_tensor)\n",
    "print(int_tensor.dtype)"
   ]
  },
  {
   "cell_type": "code",
   "execution_count": 15,
   "id": "73317530",
   "metadata": {},
   "outputs": [
    {
     "name": "stdout",
     "output_type": "stream",
     "text": [
      "tensor([ True, False,  True,  True])\n",
      "torch.bool\n"
     ]
    }
   ],
   "source": [
    "int_tensor = torch.tensor([1,0,4,-5])\n",
    "bool_tensor = int_tensor.to(torch.bool)\n",
    "print(bool_tensor)\n",
    "print(bool_tensor.dtype)"
   ]
  },
  {
   "cell_type": "markdown",
   "id": "3e563cce",
   "metadata": {},
   "source": [
    "#### Impact of data type on memory"
   ]
  },
  {
   "cell_type": "code",
   "execution_count": 18,
   "id": "3721da2a",
   "metadata": {},
   "outputs": [
    {
     "name": "stdout",
     "output_type": "stream",
     "text": [
      "4\n",
      "1000\n",
      "Memory used by float32 tensor:4000 bytes\n",
      "Memory used by float64 tensor:8000 bytes\n"
     ]
    }
   ],
   "source": [
    "float32_tensor = torch.ones(1000,dtype=torch.float32)\n",
    "float64_tensor = torch.ones(1000,dtype=torch.float64)\n",
    "\n",
    "\n",
    "# element_size() --> gives the size of one element in bytes\n",
    "# nelement() ---> returns total number of elements\n",
    "print(float32_tensor.element_size())\n",
    "print(float32_tensor.nelement())\n",
    "print(f\"Memory used by float32 tensor:{float32_tensor.element_size() * float32_tensor.nelement()} bytes\")\n",
    "print(f\"Memory used by float64 tensor:{float64_tensor.element_size() * float64_tensor.nelement()} bytes\")\n"
   ]
  },
  {
   "cell_type": "code",
   "execution_count": null,
   "id": "7fcf1ec8",
   "metadata": {},
   "outputs": [],
   "source": [
    "# float32 --> default for most NN models\n",
    "# float64 --> high precision computation\n",
    "# int32 --> general purpose integer\n",
    "# int64 --> tensor indices \n",
    "# int8,int16 --> reduce memory usage\n",
    "# float16 --> half precision of default floating datatype,reduce memory usage"
   ]
  }
 ],
 "metadata": {
  "kernelspec": {
   "display_name": "Python 3",
   "language": "python",
   "name": "python3"
  },
  "language_info": {
   "codemirror_mode": {
    "name": "ipython",
    "version": 3
   },
   "file_extension": ".py",
   "mimetype": "text/x-python",
   "name": "python",
   "nbconvert_exporter": "python",
   "pygments_lexer": "ipython3",
   "version": "3.11.13"
  }
 },
 "nbformat": 4,
 "nbformat_minor": 5
}
