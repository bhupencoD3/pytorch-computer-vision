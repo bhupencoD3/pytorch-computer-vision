{
 "cells": [
  {
   "cell_type": "markdown",
   "id": "059a8f3a",
   "metadata": {},
   "source": [
    "### Tensor Manipulation\n",
    "###### - reshaping\n",
    "###### - slicing\n",
    "###### - joining or splitting\n",
    "###### - transposing and permuting dimension"
   ]
  },
  {
   "cell_type": "code",
   "execution_count": 20,
   "id": "416e4354",
   "metadata": {},
   "outputs": [],
   "source": [
    "import torch"
   ]
  },
  {
   "cell_type": "code",
   "execution_count": 21,
   "id": "279f4da9",
   "metadata": {},
   "outputs": [
    {
     "name": "stdout",
     "output_type": "stream",
     "text": [
      "tensor([ 0,  1,  2,  3,  4,  5,  6,  7,  8,  9, 10, 11])\n",
      "12\n",
      "Dimension: 1\n"
     ]
    }
   ],
   "source": [
    "# Reshaping tensors\n",
    "original_tensor = torch.arange(12)\n",
    "print(original_tensor)\n",
    "print(original_tensor.nelement())\n",
    "print(\"Dimension:\",original_tensor.ndim)"
   ]
  },
  {
   "cell_type": "code",
   "execution_count": 22,
   "id": "6b1c881f",
   "metadata": {},
   "outputs": [
    {
     "name": "stdout",
     "output_type": "stream",
     "text": [
      "tensor([[ 0,  1,  2,  3,  4,  5],\n",
      "        [ 6,  7,  8,  9, 10, 11]])\n",
      "Dimension: 2\n"
     ]
    }
   ],
   "source": [
    "reshaped_tensor = original_tensor.reshape(2,6)\n",
    "print(reshaped_tensor)\n",
    "print(\"Dimension:\",reshaped_tensor.ndim)"
   ]
  },
  {
   "cell_type": "code",
   "execution_count": 23,
   "id": "5740bb9a",
   "metadata": {},
   "outputs": [
    {
     "name": "stdout",
     "output_type": "stream",
     "text": [
      "tensor([[ 0,  1,  2,  3],\n",
      "        [ 4,  5,  6,  7],\n",
      "        [ 8,  9, 10, 11]])\n",
      "Dimension: 2\n"
     ]
    }
   ],
   "source": [
    "reshaped_tensor = original_tensor.reshape(3,4)\n",
    "print(reshaped_tensor)\n",
    "print(\"Dimension:\",reshaped_tensor.ndim)"
   ]
  },
  {
   "cell_type": "code",
   "execution_count": 26,
   "id": "75f1c02f",
   "metadata": {},
   "outputs": [
    {
     "name": "stdout",
     "output_type": "stream",
     "text": [
      "True\n",
      "tensor([ 0,  1,  2,  3,  4,  5,  6,  7,  8,  9, 10, 11])\n"
     ]
    }
   ],
   "source": [
    "# View\n",
    "print(original_tensor.is_contiguous())\n",
    "flatten_tensor = original_tensor.view(-1)\n",
    "print(flatten_tensor)"
   ]
  },
  {
   "cell_type": "markdown",
   "id": "204a0eb8",
   "metadata": {},
   "source": [
    "##### Slicing\n",
    "###### Extract specific portions of tensors"
   ]
  },
  {
   "cell_type": "code",
   "execution_count": 28,
   "id": "198594e6",
   "metadata": {},
   "outputs": [
    {
     "name": "stdout",
     "output_type": "stream",
     "text": [
      "tensor([[1, 2, 3],\n",
      "        [4, 5, 6],\n",
      "        [7, 8, 9]])\n",
      "Dimension: 2\n"
     ]
    }
   ],
   "source": [
    "tensor_a = torch.tensor([[1,2,3],[4,5,6],[7,8,9]])\n",
    "print(tensor_a)\n",
    "print(\"Dimension:\",tensor_a.ndim)\n",
    "\n"
   ]
  },
  {
   "cell_type": "code",
   "execution_count": 29,
   "id": "528d1560",
   "metadata": {},
   "outputs": [
    {
     "data": {
      "text/plain": [
       "tensor([1, 2, 3])"
      ]
     },
     "execution_count": 29,
     "metadata": {},
     "output_type": "execute_result"
    }
   ],
   "source": [
    "tensor_a[0]"
   ]
  },
  {
   "cell_type": "code",
   "execution_count": 30,
   "id": "9080ce7d",
   "metadata": {},
   "outputs": [
    {
     "data": {
      "text/plain": [
       "tensor([1, 4, 7])"
      ]
     },
     "execution_count": 30,
     "metadata": {},
     "output_type": "execute_result"
    }
   ],
   "source": [
    "tensor_a[:,0]"
   ]
  },
  {
   "cell_type": "code",
   "execution_count": 31,
   "id": "684590c2",
   "metadata": {},
   "outputs": [
    {
     "name": "stdout",
     "output_type": "stream",
     "text": [
      "torch.Size([3, 3])\n"
     ]
    }
   ],
   "source": [
    "print(tensor_a.shape)"
   ]
  },
  {
   "cell_type": "code",
   "execution_count": 35,
   "id": "7fa5be3c",
   "metadata": {},
   "outputs": [
    {
     "name": "stdout",
     "output_type": "stream",
     "text": [
      "torch.Size([2, 2])\n",
      "tensor([[5, 6],\n",
      "        [8, 9]])\n"
     ]
    }
   ],
   "source": [
    "sub_tensor = tensor_a[1:,1:]\n",
    "print(sub_tensor.shape)\n",
    "print(sub_tensor)"
   ]
  },
  {
   "cell_type": "markdown",
   "id": "4f44fe10",
   "metadata": {},
   "source": [
    "##### Joining tensors"
   ]
  },
  {
   "cell_type": "markdown",
   "id": "c99fce65",
   "metadata": {},
   "source": [
    "###### torch.cat() --> it merges tensors along an existing dimension."
   ]
  },
  {
   "cell_type": "code",
   "execution_count": 46,
   "id": "d6d1a812",
   "metadata": {},
   "outputs": [
    {
     "name": "stdout",
     "output_type": "stream",
     "text": [
      "tensor([[1, 2],\n",
      "        [3, 4]])\n",
      "tensor([[5, 6],\n",
      "        [7, 8]])\n",
      "=========================\n",
      "tensor([[1, 2],\n",
      "        [3, 4],\n",
      "        [5, 6],\n",
      "        [7, 8]])\n",
      "tensor([[1, 2, 5, 6],\n",
      "        [3, 4, 7, 8]])\n"
     ]
    }
   ],
   "source": [
    "tensor1 = torch.tensor([[1,2],[3,4]])\n",
    "tensor2 = torch.tensor([[5,6],[7,8]])\n",
    "\n",
    "print(tensor1)\n",
    "print(tensor2)\n",
    "\n",
    "\n",
    "print(\"=\"*25)\n",
    "\n",
    "concatenated_tensor_rows = torch.cat((tensor1,tensor2),dim=0)\n",
    "concatenated_tensor_columns = torch.cat((tensor1,tensor2),dim=1)\n",
    "\n",
    "\n",
    "print(concatenated_tensor_rows)\n",
    "print(concatenated_tensor_columns)"
   ]
  },
  {
   "cell_type": "markdown",
   "id": "6a9d227c",
   "metadata": {},
   "source": [
    "###### stack -> creates a new dimension, increases the tensor's rank\n"
   ]
  },
  {
   "cell_type": "code",
   "execution_count": null,
   "id": "6dd41983",
   "metadata": {},
   "outputs": [
    {
     "name": "stdout",
     "output_type": "stream",
     "text": [
      "torch.Size([2, 2])\n",
      "torch.Size([2, 2])\n",
      "=========================\n",
      "torch.Size([2, 2, 2])\n",
      "torch.Size([2, 2, 2])\n",
      "tensor([[[1, 2],\n",
      "         [3, 4]],\n",
      "\n",
      "        [[5, 6],\n",
      "         [7, 8]]])\n",
      "tensor([[[1, 2],\n",
      "         [5, 6]],\n",
      "\n",
      "        [[3, 4],\n",
      "         [7, 8]]])\n"
     ]
    }
   ],
   "source": [
    "print(tensor1.shape)\n",
    "print(tensor2.shape)\n",
    "\n",
    "\n",
    "print(\"=\"*25)\n",
    "\n",
    "\n",
    "stack_tensor_rows = torch.stack((tensor1,tensor2),dim=0)\n",
    "stack_tensor_columns = torch.stack((tensor1,tensor2),dim=1)\n",
    "\n",
    "print(stack_tensor_rows.shape)\n",
    "print(stack_tensor_columns.shape)\n",
    "\n",
    "\n",
    "print(stack_tensor_rows)\n",
    "print(stack_tensor_columns)\n",
    "\n",
    "\n"
   ]
  },
  {
   "cell_type": "markdown",
   "id": "611cb5cc",
   "metadata": {},
   "source": [
    "##### Spliting tensors\n",
    "###### torch.chunk() --> divides your tensor into equal-sized chunks\n",
    "###### torch.split() --> allows uneven spliting based on size"
   ]
  },
  {
   "cell_type": "code",
   "execution_count": 53,
   "id": "5c2cd6da",
   "metadata": {},
   "outputs": [
    {
     "name": "stdout",
     "output_type": "stream",
     "text": [
      "(tensor([0, 1, 2]), tensor([3, 4, 5]), tensor([6, 7, 8]), tensor([ 9, 10, 11]))\n",
      "<class 'tuple'>\n",
      "tensor([0, 1, 2])\n",
      "tensor([3, 4, 5])\n",
      "tensor([6, 7, 8])\n",
      "tensor([ 9, 10, 11])\n"
     ]
    }
   ],
   "source": [
    "# torch.chunk()\n",
    "\n",
    "original_tensor = torch.arange(12)\n",
    "\n",
    "chunks = torch.chunk(original_tensor,chunks=4,dim=0)  # max 4 possible\n",
    "\n",
    "print(chunks)\n",
    "print(type(chunks))\n",
    "\n",
    "for chunk in chunks:\n",
    "    print(chunk)\n",
    "\n",
    "\n"
   ]
  },
  {
   "cell_type": "code",
   "execution_count": 55,
   "id": "247da79e",
   "metadata": {},
   "outputs": [
    {
     "name": "stdout",
     "output_type": "stream",
     "text": [
      "(tensor([0, 1, 2, 3, 4, 5, 6]), tensor([ 7,  8,  9, 10, 11]))\n",
      "<class 'tuple'>\n",
      "tensor([0, 1, 2, 3, 4, 5, 6])\n",
      "tensor([ 7,  8,  9, 10, 11])\n"
     ]
    }
   ],
   "source": [
    "# torch.split()\n",
    "\n",
    "original_tensor = torch.arange(12)\n",
    "\n",
    "splits = torch.split(original_tensor,split_size_or_sections=7,dim=0)  # max 4 possible\n",
    "\n",
    "print(splits)\n",
    "print(type(splits))\n",
    "\n",
    "for split in splits:\n",
    "    print(split)\n"
   ]
  },
  {
   "cell_type": "markdown",
   "id": "a5f164a7",
   "metadata": {},
   "source": [
    "#### Transposing and Permuting\n",
    "\n",
    "###### - transpose() ---> swaps two dim. mxn->nxm\n",
    "###### - permute() ----> rearranges all dim in the specified order"
   ]
  },
  {
   "cell_type": "code",
   "execution_count": 59,
   "id": "faa436b0",
   "metadata": {},
   "outputs": [
    {
     "name": "stdout",
     "output_type": "stream",
     "text": [
      "torch.Size([16, 2])\n",
      "torch.Size([2, 16])\n",
      "--------------------\n",
      "tensor([[ 0,  1],\n",
      "        [ 2,  3],\n",
      "        [ 4,  5],\n",
      "        [ 6,  7],\n",
      "        [ 8,  9],\n",
      "        [10, 11],\n",
      "        [12, 13],\n",
      "        [14, 15],\n",
      "        [16, 17],\n",
      "        [18, 19],\n",
      "        [20, 21],\n",
      "        [22, 23],\n",
      "        [24, 25],\n",
      "        [26, 27],\n",
      "        [28, 29],\n",
      "        [30, 31]])\n",
      "tensor([[ 0,  2,  4,  6,  8, 10, 12, 14, 16, 18, 20, 22, 24, 26, 28, 30],\n",
      "        [ 1,  3,  5,  7,  9, 11, 13, 15, 17, 19, 21, 23, 25, 27, 29, 31]])\n"
     ]
    }
   ],
   "source": [
    "# Transpose-\n",
    "original_tensor = torch.arange(32).reshape(16,2)\n",
    "\n",
    "transposed_tensor = original_tensor.transpose(0,1)\n",
    "print(original_tensor.shape)\n",
    "print(transposed_tensor.shape)\n",
    "\n",
    "print(\"-\"*20)\n",
    "print(original_tensor)\n",
    "print(transposed_tensor)"
   ]
  },
  {
   "cell_type": "code",
   "execution_count": 66,
   "id": "baaffefd",
   "metadata": {},
   "outputs": [
    {
     "name": "stdout",
     "output_type": "stream",
     "text": [
      "tensor([[[ 0,  1,  2,  3],\n",
      "         [ 4,  5,  6,  7],\n",
      "         [ 8,  9, 10, 11],\n",
      "         [12, 13, 14, 15]],\n",
      "\n",
      "        [[16, 17, 18, 19],\n",
      "         [20, 21, 22, 23],\n",
      "         [24, 25, 26, 27],\n",
      "         [28, 29, 30, 31]]])\n",
      "Shape: torch.Size([2, 4, 4])\n",
      "------------------------------\n",
      "tensor([[[ 0,  4,  8, 12],\n",
      "         [16, 20, 24, 28]],\n",
      "\n",
      "        [[ 1,  5,  9, 13],\n",
      "         [17, 21, 25, 29]],\n",
      "\n",
      "        [[ 2,  6, 10, 14],\n",
      "         [18, 22, 26, 30]],\n",
      "\n",
      "        [[ 3,  7, 11, 15],\n",
      "         [19, 23, 27, 31]]])\n",
      "Shape: torch.Size([4, 2, 4])\n"
     ]
    }
   ],
   "source": [
    "# Permuting\n",
    "original_tensor = torch.arange(32).reshape(2,4,4)\n",
    "print(original_tensor)\n",
    "print(\"Shape:\",original_tensor.shape)\n",
    "print(\"-\"*30)\n",
    "permuted_tensor = original_tensor.permute(2,0,1)\n",
    "print(permuted_tensor)\n",
    "print(\"Shape:\",permuted_tensor.shape)"
   ]
  },
  {
   "cell_type": "markdown",
   "id": "5f18522b",
   "metadata": {},
   "source": [
    "##### Cloning and detaching"
   ]
  },
  {
   "cell_type": "code",
   "execution_count": 69,
   "id": "d09bfc9e",
   "metadata": {},
   "outputs": [
    {
     "name": "stdout",
     "output_type": "stream",
     "text": [
      "140561725986880\n",
      "140561725988224\n"
     ]
    }
   ],
   "source": [
    "# Python way\n",
    "import copy\n",
    "\n",
    "a = [1,2,3,4,5]\n",
    "b = copy.deepcopy(a)\n",
    "\n",
    "print(id(a))\n",
    "print(id(b))\n",
    "\n"
   ]
  },
  {
   "cell_type": "code",
   "execution_count": 70,
   "id": "1ae72b2f",
   "metadata": {},
   "outputs": [],
   "source": [
    "tensor = torch.ones(3,3,requires_grad=True) # part of computation graph\n",
    "\n",
    "cloned_tensor = tensor.clone()  # for cloning [part of computation graph]\n",
    "\n",
    "detached_tensor = tensor.detach()  # this code will detach the tensor from the computation graph [not a part of comp. graph]\n",
    "# but storage will be same as the original ones\n",
    "\n",
    "\n"
   ]
  }
 ],
 "metadata": {
  "kernelspec": {
   "display_name": "Python 3",
   "language": "python",
   "name": "python3"
  },
  "language_info": {
   "codemirror_mode": {
    "name": "ipython",
    "version": 3
   },
   "file_extension": ".py",
   "mimetype": "text/x-python",
   "name": "python",
   "nbconvert_exporter": "python",
   "pygments_lexer": "ipython3",
   "version": "3.11.13"
  }
 },
 "nbformat": 4,
 "nbformat_minor": 5
}
