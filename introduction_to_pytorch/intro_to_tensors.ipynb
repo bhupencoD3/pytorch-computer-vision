{
 "cells": [
  {
   "cell_type": "markdown",
   "id": "836af3da",
   "metadata": {},
   "source": [
    "# Creating tensors"
   ]
  },
  {
   "cell_type": "code",
   "execution_count": 1,
   "id": "b705ea0e",
   "metadata": {},
   "outputs": [],
   "source": [
    "import torch"
   ]
  },
  {
   "cell_type": "code",
   "execution_count": 2,
   "id": "abde754f",
   "metadata": {},
   "outputs": [
    {
     "name": "stdout",
     "output_type": "stream",
     "text": [
      "Scaler tensor:42\n",
      "Scaler Dimension:0\n",
      "Shape of Scaler tensor:torch.Size([])\n"
     ]
    }
   ],
   "source": [
    "# 1. scaler tensors\n",
    "\n",
    "scaler = torch.tensor(42)\n",
    "print(f\"Scaler tensor:{scaler}\")\n",
    "print(f\"Scaler Dimension:{scaler.ndim}\")\n",
    "print(f\"Shape of Scaler tensor:{scaler.shape}\")\n"
   ]
  },
  {
   "cell_type": "code",
   "execution_count": 3,
   "id": "03632b3e",
   "metadata": {},
   "outputs": [
    {
     "name": "stdout",
     "output_type": "stream",
     "text": [
      "Vector tensor:tensor([1, 2, 3])\n",
      "Vector Dimension:1\n",
      "Shape of Vector tensor:torch.Size([3])\n"
     ]
    }
   ],
   "source": [
    "# 1D tensor: Vector\n",
    "vector = torch.tensor([1,2,3])\n",
    "print(f\"Vector tensor:{vector}\")\n",
    "print(f\"Vector Dimension:{vector.ndim}\")\n",
    "print(f\"Shape of Vector tensor:{vector.shape}\")\n"
   ]
  },
  {
   "cell_type": "code",
   "execution_count": 5,
   "id": "e3df83d9",
   "metadata": {},
   "outputs": [
    {
     "name": "stdout",
     "output_type": "stream",
     "text": [
      "matrix tensor:tensor([[1, 2],\n",
      "        [3, 4]])\n",
      "matrix Dimension:2\n",
      "Shape of matrix tensor:torch.Size([2, 2])\n"
     ]
    }
   ],
   "source": [
    "# matrix 2D\n",
    "matrix = torch.tensor([[1,2],[3,4]])\n",
    "print(f\"matrix tensor:{matrix}\")\n",
    "print(f\"matrix Dimension:{matrix.ndim}\")\n",
    "print(f\"Shape of matrix tensor:{matrix.shape}\")"
   ]
  },
  {
   "cell_type": "code",
   "execution_count": 7,
   "id": "376630c8",
   "metadata": {},
   "outputs": [
    {
     "name": "stdout",
     "output_type": "stream",
     "text": [
      "tensor3d tensor:tensor([[[1, 2],\n",
      "         [3, 4]],\n",
      "\n",
      "        [[5, 6],\n",
      "         [7, 8]]])\n",
      "tensor3d Dimension:3\n",
      "Shape of tensor3d tensor:torch.Size([2, 2, 2])\n"
     ]
    }
   ],
   "source": [
    "# 3D tensor\n",
    "tensor3d = torch.tensor([\n",
    "                    [[1,2],[3,4]],\n",
    "                    [[5,6],[7,8]]\n",
    "                    ])\n",
    "print(f\"tensor3d tensor:{tensor3d}\")\n",
    "print(f\"tensor3d Dimension:{tensor3d.ndim}\")\n",
    "print(f\"Shape of tensor3d tensor:{tensor3d.shape}\")\n"
   ]
  },
  {
   "cell_type": "code",
   "execution_count": 9,
   "id": "3e90fad6",
   "metadata": {},
   "outputs": [
    {
     "name": "stdout",
     "output_type": "stream",
     "text": [
      "Cuda is not available on this machine.\n"
     ]
    }
   ],
   "source": [
    "# GPU acceleration\n",
    "if torch.cuda.is_available():\n",
    "    gpu_tensor = vector.to('cuda')\n",
    "    print('Tensor on GPU',gpu_tensor)\n",
    "else:\n",
    "    print(\"Cuda is not available on this machine.\")\n",
    "\n",
    "\n",
    "# You need gpu for cuda support"
   ]
  },
  {
   "cell_type": "code",
   "execution_count": 15,
   "id": "44f02510",
   "metadata": {},
   "outputs": [
    {
     "name": "stdout",
     "output_type": "stream",
     "text": [
      "Data type of matrix: torch.int64\n",
      "Device of Tensor: cpu\n",
      "is tensor on CUDA?: False\n",
      "Size: torch.Size([2, 2])\n",
      "Number of elements: 4\n"
     ]
    }
   ],
   "source": [
    "# Tensor Properties\n",
    "print(\"Data type of matrix:\",matrix.dtype)\n",
    "\n",
    "## returns where our tensor is present\n",
    "print(\"Device of Tensor:\",matrix.device)\n",
    "\n",
    "\n",
    "print(\"is tensor on CUDA?:\",matrix.is_cuda)\n",
    "\n",
    "print(\"Size:\",matrix.size())\n",
    "\n",
    "print(\"Number of elements:\",matrix.numel())"
   ]
  }
 ],
 "metadata": {
  "kernelspec": {
   "display_name": "Python 3",
   "language": "python",
   "name": "python3"
  },
  "language_info": {
   "codemirror_mode": {
    "name": "ipython",
    "version": 3
   },
   "file_extension": ".py",
   "mimetype": "text/x-python",
   "name": "python",
   "nbconvert_exporter": "python",
   "pygments_lexer": "ipython3",
   "version": "3.11.13"
  }
 },
 "nbformat": 4,
 "nbformat_minor": 5
}
