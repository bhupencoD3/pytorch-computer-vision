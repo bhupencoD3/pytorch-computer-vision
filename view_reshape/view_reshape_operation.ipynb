{
 "cells": [
  {
   "cell_type": "code",
   "execution_count": 1,
   "id": "084a749a",
   "metadata": {},
   "outputs": [],
   "source": [
    "import torch"
   ]
  },
  {
   "cell_type": "code",
   "execution_count": 2,
   "id": "501f28e6",
   "metadata": {},
   "outputs": [],
   "source": [
    "tensor = torch.arange(12)"
   ]
  },
  {
   "cell_type": "markdown",
   "id": "a40a8f4c",
   "metadata": {},
   "source": [
    "##### view only works with contiguous data\n",
    "##### reshape works with both\n",
    "###### if reshape gets non-contiguous data it creates copy of contiguous data and uses that copy"
   ]
  },
  {
   "cell_type": "code",
   "execution_count": 3,
   "id": "e83789f9",
   "metadata": {},
   "outputs": [
    {
     "name": "stdout",
     "output_type": "stream",
     "text": [
      "tensor([[ 0,  1,  2,  3,  4,  5],\n",
      "        [ 6,  7,  8,  9, 10, 11]])\n",
      "tensor([[ 0,  1,  2,  3,  4,  5],\n",
      "        [ 6,  7,  8,  9, 10, 11]])\n"
     ]
    }
   ],
   "source": [
    "reshaped_view_tensor = tensor.view(2,6)\n",
    "reshaped_tensor = tensor.reshape(2,6)\n",
    "\n",
    "\n",
    "print(reshaped_view_tensor)\n",
    "print(reshaped_tensor)"
   ]
  },
  {
   "cell_type": "code",
   "execution_count": 4,
   "id": "db1f3c48",
   "metadata": {},
   "outputs": [
    {
     "data": {
      "text/plain": [
       "True"
      ]
     },
     "execution_count": 4,
     "metadata": {},
     "output_type": "execute_result"
    }
   ],
   "source": [
    "tensor.is_contiguous()"
   ]
  },
  {
   "cell_type": "code",
   "execution_count": 6,
   "id": "3a2218cd",
   "metadata": {},
   "outputs": [
    {
     "name": "stdout",
     "output_type": "stream",
     "text": [
      "tensor([[ 0,  1,  2,  3],\n",
      "        [ 4,  5,  6,  7],\n",
      "        [ 8,  9, 10, 11]])\n",
      "torch.Size([3, 4])\n"
     ]
    }
   ],
   "source": [
    "inferred_shape = tensor.view(3,-1)\n",
    "print(inferred_shape)\n",
    "print(inferred_shape.shape)"
   ]
  },
  {
   "cell_type": "code",
   "execution_count": 7,
   "id": "ec7d85ba",
   "metadata": {},
   "outputs": [
    {
     "name": "stdout",
     "output_type": "stream",
     "text": [
      "tensor([[[ 0,  1,  2,  3],\n",
      "         [ 4,  5,  6,  7],\n",
      "         [ 8,  9, 10, 11]],\n",
      "\n",
      "        [[12, 13, 14, 15],\n",
      "         [16, 17, 18, 19],\n",
      "         [20, 21, 22, 23]]])\n"
     ]
    }
   ],
   "source": [
    "tensor_3d = torch.arange(24).reshape(2,3,4)\n",
    "print(tensor_3d)"
   ]
  },
  {
   "cell_type": "markdown",
   "id": "808a3a82",
   "metadata": {},
   "source": [
    "###### cnn requires input as a 1d so we can use -1 to convert any D into 1d"
   ]
  },
  {
   "cell_type": "code",
   "execution_count": 8,
   "id": "37d9eadd",
   "metadata": {},
   "outputs": [
    {
     "name": "stdout",
     "output_type": "stream",
     "text": [
      "tensor([ 0,  1,  2,  3,  4,  5,  6,  7,  8,  9, 10, 11, 12, 13, 14, 15, 16, 17,\n",
      "        18, 19, 20, 21, 22, 23])\n"
     ]
    }
   ],
   "source": [
    "flattned = tensor_3d.view(-1)\n",
    "print(flattned)"
   ]
  },
  {
   "cell_type": "code",
   "execution_count": 9,
   "id": "5d6c59a0",
   "metadata": {},
   "outputs": [
    {
     "data": {
      "text/plain": [
       "True"
      ]
     },
     "execution_count": 9,
     "metadata": {},
     "output_type": "execute_result"
    }
   ],
   "source": [
    "flattned.is_contiguous()"
   ]
  },
  {
   "cell_type": "code",
   "execution_count": 10,
   "id": "35c70c03",
   "metadata": {},
   "outputs": [],
   "source": [
    "tensor_3d = torch.arange(24).reshape(12,2)\n",
    "transposed_tensor = tensor_3d.t()\n"
   ]
  },
  {
   "cell_type": "code",
   "execution_count": 11,
   "id": "00a8a4f6",
   "metadata": {},
   "outputs": [
    {
     "data": {
      "text/plain": [
       "False"
      ]
     },
     "execution_count": 11,
     "metadata": {},
     "output_type": "execute_result"
    }
   ],
   "source": [
    "transposed_tensor.is_contiguous()"
   ]
  },
  {
   "cell_type": "code",
   "execution_count": 12,
   "id": "d8df7af5",
   "metadata": {},
   "outputs": [
    {
     "ename": "RuntimeError",
     "evalue": "view size is not compatible with input tensor's size and stride (at least one dimension spans across two contiguous subspaces). Use .reshape(...) instead.",
     "output_type": "error",
     "traceback": [
      "\u001b[31m---------------------------------------------------------------------------\u001b[39m",
      "\u001b[31mRuntimeError\u001b[39m                              Traceback (most recent call last)",
      "\u001b[36mCell\u001b[39m\u001b[36m \u001b[39m\u001b[32mIn[12]\u001b[39m\u001b[32m, line 1\u001b[39m\n\u001b[32m----> \u001b[39m\u001b[32m1\u001b[39m error = \u001b[43mtransposed_tensor\u001b[49m\u001b[43m.\u001b[49m\u001b[43mview\u001b[49m\u001b[43m(\u001b[49m\u001b[32;43m6\u001b[39;49m\u001b[43m,\u001b[49m\u001b[32;43m4\u001b[39;49m\u001b[43m)\u001b[49m\n",
      "\u001b[31mRuntimeError\u001b[39m: view size is not compatible with input tensor's size and stride (at least one dimension spans across two contiguous subspaces). Use .reshape(...) instead."
     ]
    }
   ],
   "source": [
    "error = transposed_tensor.view(6,4)"
   ]
  },
  {
   "cell_type": "code",
   "execution_count": 13,
   "id": "505eb36b",
   "metadata": {},
   "outputs": [
    {
     "name": "stdout",
     "output_type": "stream",
     "text": [
      "tensor([[ 0,  2,  4,  6],\n",
      "        [ 8, 10, 12, 14],\n",
      "        [16, 18, 20, 22],\n",
      "        [ 1,  3,  5,  7],\n",
      "        [ 9, 11, 13, 15],\n",
      "        [17, 19, 21, 23]])\n",
      "torch.Size([6, 4])\n"
     ]
    }
   ],
   "source": [
    "reshaped_tensor = transposed_tensor.reshape(6,4)\n",
    "print(reshaped_tensor)\n",
    "print(reshaped_tensor.shape)"
   ]
  },
  {
   "cell_type": "code",
   "execution_count": 14,
   "id": "973d74aa",
   "metadata": {},
   "outputs": [
    {
     "name": "stdout",
     "output_type": "stream",
     "text": [
      "tensor([[ 0,  2,  4,  6],\n",
      "        [ 8, 10, 12, 14],\n",
      "        [16, 18, 20, 22],\n",
      "        [ 1,  3,  5,  7],\n",
      "        [ 9, 11, 13, 15],\n",
      "        [17, 19, 21, 23]])\n",
      "torch.Size([6, 4])\n"
     ]
    }
   ],
   "source": [
    "contiguous = transposed_tensor.contiguous()\n",
    "error = contiguous.view(6,4)\n",
    "print(error)\n",
    "print(error.shape)\n"
   ]
  },
  {
   "cell_type": "code",
   "execution_count": null,
   "id": "ba4e139b",
   "metadata": {},
   "outputs": [],
   "source": []
  }
 ],
 "metadata": {
  "kernelspec": {
   "display_name": "Python 3",
   "language": "python",
   "name": "python3"
  },
  "language_info": {
   "codemirror_mode": {
    "name": "ipython",
    "version": 3
   },
   "file_extension": ".py",
   "mimetype": "text/x-python",
   "name": "python",
   "nbconvert_exporter": "python",
   "pygments_lexer": "ipython3",
   "version": "3.11.13"
  }
 },
 "nbformat": 4,
 "nbformat_minor": 5
}
