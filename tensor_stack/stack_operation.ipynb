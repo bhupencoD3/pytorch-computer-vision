{
 "cells": [
  {
   "cell_type": "code",
   "execution_count": 1,
   "id": "7b3c2960",
   "metadata": {},
   "outputs": [],
   "source": [
    "import torch"
   ]
  },
  {
   "cell_type": "code",
   "execution_count": 5,
   "id": "35df4246",
   "metadata": {},
   "outputs": [
    {
     "name": "stdout",
     "output_type": "stream",
     "text": [
      "Tensor1 Dimension is 1 and the Size is torch.Size([3])\n"
     ]
    }
   ],
   "source": [
    "tensor_1 = torch.tensor([1,2,3])\n",
    "tensor_2 = torch.tensor([4,5,6])\n",
    "\n",
    "\n",
    "print(f\"Tensor1 Dimension is {tensor_1.ndim} and the Size is {tensor_1.size()}\")"
   ]
  },
  {
   "cell_type": "code",
   "execution_count": 9,
   "id": "dc5375d6",
   "metadata": {},
   "outputs": [
    {
     "name": "stdout",
     "output_type": "stream",
     "text": [
      "Shape: torch.Size([2, 3])\n",
      "tensor([[1, 2, 3],\n",
      "        [4, 5, 6]])\n",
      "--------------------\n",
      "Shape: torch.Size([3, 2])\n",
      "tensor([[1, 4],\n",
      "        [2, 5],\n",
      "        [3, 6]])\n"
     ]
    }
   ],
   "source": [
    "stacked_tensor_dim_0 = torch.stack((tensor_1,tensor_2),dim=0)\n",
    "print(\"Shape:\",stacked_tensor_dim_0.shape)\n",
    "print(stacked_tensor_dim_0)\n",
    "\n",
    "print(\"-\"*20)\n",
    "stacked_tensor_dim_1 = torch.stack((tensor_1,tensor_2),dim=1)\n",
    "print(\"Shape:\",stacked_tensor_dim_1.shape)\n",
    "print(stacked_tensor_dim_1)"
   ]
  },
  {
   "cell_type": "code",
   "execution_count": 11,
   "id": "5ec1adb1",
   "metadata": {},
   "outputs": [
    {
     "name": "stdout",
     "output_type": "stream",
     "text": [
      "Shape: torch.Size([3, 3])\n",
      "tensor([[1, 2, 3],\n",
      "        [4, 5, 6],\n",
      "        [7, 8, 9]])\n",
      "--------------------\n",
      "Shape: torch.Size([3, 3])\n",
      "tensor([[1, 4, 7],\n",
      "        [2, 5, 8],\n",
      "        [3, 6, 9]])\n"
     ]
    }
   ],
   "source": [
    "tensor3 = torch.tensor([7,8,9])\n",
    "stacked_tensor_dim_0_new = torch.stack((tensor_1,tensor_2,tensor3),dim=0)\n",
    "print(\"Shape:\",stacked_tensor_dim_0_new.shape)\n",
    "print(stacked_tensor_dim_0_new)\n",
    "print(\"-\"*20)\n",
    "stacked_tensor_dim_1_new = torch.stack((tensor_1,tensor_2,tensor3),dim=1)\n",
    "print(\"Shape:\",stacked_tensor_dim_1_new.shape)\n",
    "print(stacked_tensor_dim_1_new)"
   ]
  },
  {
   "cell_type": "markdown",
   "id": "4bcdd0d3",
   "metadata": {},
   "source": [
    "##### stacking 2D tensor"
   ]
  },
  {
   "cell_type": "code",
   "execution_count": null,
   "id": "8f7938bc",
   "metadata": {},
   "outputs": [
    {
     "name": "stdout",
     "output_type": "stream",
     "text": [
      "Dimension: 2\n",
      "Dimension: 3\n",
      "Shape: torch.Size([2, 2, 2])\n",
      "tensor([[[1, 2],\n",
      "         [3, 4]],\n",
      "\n",
      "        [[5, 6],\n",
      "         [7, 8]]])\n"
     ]
    }
   ],
   "source": [
    "tensor1 = torch.tensor([[1,2],\n",
    "                        [3,4]])\n",
    "tensor2 = torch.tensor([[5,6],\n",
    "                        [7,8]])\n",
    "print(\"Dimension:\",tensor2.ndim)\n",
    "\n",
    "stacked_tensor_2d = torch.stack((tensor1,tensor2),dim=0)\n",
    "print(\"Dimension:\",stacked_tensor_2d.ndim)\n",
    "print(\"Shape:\",stacked_tensor_2d.shape)\n",
    "print(stacked_tensor_2d)"
   ]
  },
  {
   "cell_type": "markdown",
   "id": "bcf03f64",
   "metadata": {},
   "source": [
    "###### [1,2] dim-->0 = []. dim-->1 = values\n",
    "###### [[1,2]]. dim-->0 = [1,2],dim-->1 = 1,2, dim -->2 = 1, 2 [seprate 1 and 2]"
   ]
  },
  {
   "cell_type": "code",
   "execution_count": 15,
   "id": "3672f2de",
   "metadata": {},
   "outputs": [
    {
     "name": "stdout",
     "output_type": "stream",
     "text": [
      "Dimension: 3\n",
      "Shape: torch.Size([2, 2, 2])\n",
      "tensor([[[1, 2],\n",
      "         [5, 6]],\n",
      "\n",
      "        [[3, 4],\n",
      "         [7, 8]]])\n"
     ]
    }
   ],
   "source": [
    "stacked_tensor_2d = torch.stack((tensor1,tensor2),dim=1)\n",
    "print(\"Dimension:\",stacked_tensor_2d.ndim)\n",
    "print(\"Shape:\",stacked_tensor_2d.shape)\n",
    "print(stacked_tensor_2d)"
   ]
  },
  {
   "cell_type": "code",
   "execution_count": 16,
   "id": "6574ec95",
   "metadata": {},
   "outputs": [
    {
     "name": "stdout",
     "output_type": "stream",
     "text": [
      "Dimension: 3\n",
      "Shape: torch.Size([2, 2, 2])\n",
      "tensor([[[1, 5],\n",
      "         [2, 6]],\n",
      "\n",
      "        [[3, 7],\n",
      "         [4, 8]]])\n"
     ]
    }
   ],
   "source": [
    "stacked_tensor_2d = torch.stack((tensor1,tensor2),dim=2)\n",
    "print(\"Dimension:\",stacked_tensor_2d.ndim)\n",
    "print(\"Shape:\",stacked_tensor_2d.shape)\n",
    "print(stacked_tensor_2d)"
   ]
  },
  {
   "cell_type": "code",
   "execution_count": 17,
   "id": "bc918245",
   "metadata": {},
   "outputs": [
    {
     "ename": "IndexError",
     "evalue": "Dimension out of range (expected to be in range of [-3, 2], but got 3)",
     "output_type": "error",
     "traceback": [
      "\u001b[31m---------------------------------------------------------------------------\u001b[39m",
      "\u001b[31mIndexError\u001b[39m                                Traceback (most recent call last)",
      "\u001b[36mCell\u001b[39m\u001b[36m \u001b[39m\u001b[32mIn[17]\u001b[39m\u001b[32m, line 1\u001b[39m\n\u001b[32m----> \u001b[39m\u001b[32m1\u001b[39m stacked_tensor_2d = \u001b[43mtorch\u001b[49m\u001b[43m.\u001b[49m\u001b[43mstack\u001b[49m\u001b[43m(\u001b[49m\u001b[43m(\u001b[49m\u001b[43mtensor1\u001b[49m\u001b[43m,\u001b[49m\u001b[43mtensor2\u001b[49m\u001b[43m)\u001b[49m\u001b[43m,\u001b[49m\u001b[43mdim\u001b[49m\u001b[43m=\u001b[49m\u001b[32;43m3\u001b[39;49m\u001b[43m)\u001b[49m\n\u001b[32m      2\u001b[39m \u001b[38;5;28mprint\u001b[39m(\u001b[33m\"\u001b[39m\u001b[33mDimension:\u001b[39m\u001b[33m\"\u001b[39m,stacked_tensor_2d.ndim)\n\u001b[32m      3\u001b[39m \u001b[38;5;28mprint\u001b[39m(\u001b[33m\"\u001b[39m\u001b[33mShape:\u001b[39m\u001b[33m\"\u001b[39m,stacked_tensor_2d.shape)\n",
      "\u001b[31mIndexError\u001b[39m: Dimension out of range (expected to be in range of [-3, 2], but got 3)"
     ]
    }
   ],
   "source": [
    "stacked_tensor_2d = torch.stack((tensor1,tensor2),dim=3)\n",
    "print(\"Dimension:\",stacked_tensor_2d.ndim)\n",
    "print(\"Shape:\",stacked_tensor_2d.shape)\n",
    "print(stacked_tensor_2d)"
   ]
  },
  {
   "cell_type": "markdown",
   "id": "b8ed3bdc",
   "metadata": {},
   "source": [
    "###### Concatenation operation\n",
    "concate will not create extra dim"
   ]
  },
  {
   "cell_type": "code",
   "execution_count": 21,
   "id": "cb979f6a",
   "metadata": {},
   "outputs": [
    {
     "name": "stdout",
     "output_type": "stream",
     "text": [
      "Shape: torch.Size([4, 2])\n",
      "tensor([[1, 2],\n",
      "        [3, 4],\n",
      "        [5, 6],\n",
      "        [7, 8]])\n",
      "Dimension: 2\n"
     ]
    }
   ],
   "source": [
    "concatenated_tensor = torch.cat((tensor1,tensor2),dim=0)\n",
    "print(\"Shape:\",concatenated_tensor.shape)\n",
    "print(concatenated_tensor)\n",
    "print(\"Dimension:\",concatenated_tensor.ndim)\n"
   ]
  },
  {
   "cell_type": "code",
   "execution_count": 22,
   "id": "548057c2",
   "metadata": {},
   "outputs": [
    {
     "name": "stdout",
     "output_type": "stream",
     "text": [
      "Shape: torch.Size([2, 4])\n",
      "tensor([[1, 2, 5, 6],\n",
      "        [3, 4, 7, 8]])\n",
      "Dimension: 2\n"
     ]
    }
   ],
   "source": [
    "concatenated_tensor = torch.cat((tensor1,tensor2),dim=1)\n",
    "print(\"Shape:\",concatenated_tensor.shape)\n",
    "print(concatenated_tensor)\n",
    "print(\"Dimension:\",concatenated_tensor.ndim)"
   ]
  },
  {
   "cell_type": "code",
   "execution_count": null,
   "id": "11fdcd67",
   "metadata": {},
   "outputs": [],
   "source": []
  }
 ],
 "metadata": {
  "kernelspec": {
   "display_name": "Python 3",
   "language": "python",
   "name": "python3"
  },
  "language_info": {
   "codemirror_mode": {
    "name": "ipython",
    "version": 3
   },
   "file_extension": ".py",
   "mimetype": "text/x-python",
   "name": "python",
   "nbconvert_exporter": "python",
   "pygments_lexer": "ipython3",
   "version": "3.11.13"
  }
 },
 "nbformat": 4,
 "nbformat_minor": 5
}
